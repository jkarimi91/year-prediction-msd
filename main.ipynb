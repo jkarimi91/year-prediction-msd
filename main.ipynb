{
 "cells": [
  {
   "cell_type": "markdown",
   "metadata": {},
   "source": [
    "# Problem\n",
    "\n",
    "Implement a **DNN** based **regression** model, using **tensorflow**, on a **dataset of your choice**."
   ]
  },
  {
   "cell_type": "markdown",
   "metadata": {},
   "source": [
    "# Dataset\n",
    "\n",
    "We will be using the [Year Prediction Million Song Dataset][1] from the UCI Machine Learning Repository:\n",
    "\n",
    "> **Abstract:** \n",
    "  * Prediction of the release year of a song from audio features. \n",
    "  * Songs are mostly western, commercial tracks ranging from 1922 to 2011, with a peak in the year 2000s.\n",
    "  \n",
    "  |                           |   \n",
    "  | ------------------------- |:------------- \n",
    "  | Data Set Characteristics: | Multivariate \n",
    "  | Number of Instances:      | 515345   \n",
    "  | Attribute Characteritics: | Real     \n",
    "  | Number of Attributes:     | 90\n",
    "  | Date Donated:             | 2011-02-07\n",
    "  | Associated Tasks:         | Regression\n",
    "  | Missing Values:           | N/A\n",
    "  | Number of Web Hits:       | 103568\n",
    "\n",
    "> **Source:** \n",
    "  * This data is a subset of the [Million Song Dataset][2], a collaboration between LabROSA \n",
    "  (Columbia University) and The Echo Nest. \n",
    "  * Prepared by T. Bertin-Mahieux <tb2332 '@' columbia.edu>\n",
    "\n",
    "> **Data Set Information:** \n",
    "  * You should respect the following train / test split: \n",
    "    * `train`: first 463,715 examples \n",
    "    * `test`: last 51,630 examples \n",
    "  * It avoids the 'producer effect' by making sure no song from a given artist ends up in both \n",
    "  the train and test set.\n",
    "\n",
    "> **Attribute Information:** \n",
    "  * 90 attributes, 12 = timbre average, 78 = timbre covariance \n",
    "  * The first value is the year (target), ranging from 1922 to 2011. \n",
    "  * Features extracted from the 'timbre' features from The Echo Nest API. \n",
    "  * We take the average and covariance over all 'segments', each segment being described by a \n",
    "  12-dimensional timbre vector.\n",
    "\n",
    "\n",
    "\n",
    "[1]: https://archive.ics.uci.edu/ml/datasets/yearpredictionmsd#\n",
    "[2]: http://labrosa.ee.columbia.edu/millionsong/ "
   ]
  },
  {
   "cell_type": "markdown",
   "metadata": {},
   "source": [
    "# Prepare the Data"
   ]
  },
  {
   "cell_type": "code",
   "execution_count": 2,
   "metadata": {},
   "outputs": [],
   "source": [
    "import pandas as pd\n",
    "from sklearn.model_selection import train_test_split\n",
    "from sklearn import preprocessing\n",
    "import numpy as np"
   ]
  },
  {
   "cell_type": "code",
   "execution_count": 3,
   "metadata": {},
   "outputs": [
    {
     "name": "stdout",
     "output_type": "stream",
     "text": [
      "Train/val/test split: 72/18/10\n"
     ]
    }
   ],
   "source": [
    "# Load the raw data.\n",
    "num_attributes = 90\n",
    "names = ['Year'] + ['Attr_{}'.format(i) for i in xrange(num_attributes)]\n",
    "df = pd.read_csv('YearPredictionMSD.txt', header=None, names=names)\n",
    "\n",
    "# Validate the data.\n",
    "num_examples = 515345\n",
    "assert len(df.columns) == num_attributes + 1\n",
    "assert len(df) == num_examples\n",
    "assert not df.isnull().values.any()\n",
    "\n",
    "\n",
    "# Train/test split. See \"Data Set Information\".\n",
    "num_train = 463715\n",
    "df = df.as_matrix()\n",
    "train = df[:num_train]\n",
    "test = df[num_train:]\n",
    "del df\n",
    "\n",
    "\n",
    "# Train/val split.\n",
    "train, val = train_test_split(train, test_size=0.2, shuffle=True)\n",
    "print 'Train/val/test split: {:.0f}/{:.0f}/{:.0f}'.format(len(train) / float(num_examples) * 100, \n",
    "                                              len(val) / float(num_examples) * 100, \n",
    "                                              len(test) / float(num_examples) * 100)\n",
    "\n",
    "# Seperate inputs and outputs.\n",
    "X_train, y_train = train[:, 1:], train[:, 0]\n",
    "X_val, y_val = val[:, 1:], val[:, 0]\n",
    "X_test, y_test = test[:, 1:], test[:, 0]\n",
    "del train\n",
    "del val\n",
    "del test\n",
    "\n",
    "# Scale data i.e. mean 0 and std 1.\n",
    "X_train, X_val, X_test = map(preprocessing.scale, [X_train, X_val, X_test])"
   ]
  },
  {
   "cell_type": "markdown",
   "metadata": {},
   "source": [
    "# Model Tuning/Training"
   ]
  },
  {
   "cell_type": "markdown",
   "metadata": {},
   "source": [
    "## Baseline\n",
    "\n",
    "Let's train a simple model on each available optimizer, with it's default hyperparameters, and select the best performing as our baseline."
   ]
  },
  {
   "cell_type": "code",
   "execution_count": 4,
   "metadata": {},
   "outputs": [],
   "source": [
    "%matplotlib inline\n",
    "import matplotlib.pyplot as plt\n",
    "import seaborn as sns\n",
    "sns.set()  # Applies seaborn style defaults to matplotlib\n",
    "\n",
    "from tensorflow.python.keras import Sequential\n",
    "from tensorflow.python.keras.layers import Dense\n",
    "from tensorflow.python.keras.layers import Dropout\n",
    "\n",
    "import random"
   ]
  },
  {
   "cell_type": "code",
   "execution_count": 5,
   "metadata": {},
   "outputs": [],
   "source": [
    "def plot(history):\n",
    "    epochs = xrange(1, len(history.history['loss']) + 1)\n",
    "    plt.plot(epochs, history.history['loss'], label='train');\n",
    "    plt.plot(epochs, history.history['val_loss'], label='val');\n",
    "    plt.xlabel('epoch');\n",
    "    plt.ylabel('mae');\n",
    "    plt.legend();\n",
    "    plt.show();"
   ]
  },
  {
   "cell_type": "code",
   "execution_count": 38,
   "metadata": {},
   "outputs": [
    {
     "name": "stdout",
     "output_type": "stream",
     "text": [
      "Train on 370972 samples, validate on 92743 samples\n",
      "Epoch 1/4\n",
      "370972/370972 [==============================]370972/370972 [==============================] - 16s 42us/step - loss: 931160.4283 - mean_absolute_error: 729.0378 - val_loss: 114339.5501 - val_mean_absolute_error: 248.9556\n",
      "\n",
      "Epoch 2/4\n",
      "370972/370972 [==============================]370972/370972 [==============================] - 14s 37us/step - loss: 33811.4994 - mean_absolute_error: 110.8175 - val_loss: 1369.0618 - val_mean_absolute_error: 20.9022\n",
      "\n",
      "Epoch 3/4\n",
      "370972/370972 [==============================]370972/370972 [==============================] - 14s 36us/step - loss: 377.6239 - mean_absolute_error: 10.2197 - val_loss: 141.2830 - val_mean_absolute_error: 7.9505\n",
      "\n",
      "Epoch 4/4\n",
      "370972/370972 [==============================]370972/370972 [==============================] - 14s 38us/step - loss: 130.5977 - mean_absolute_error: 7.5514 - val_loss: 116.1012 - val_mean_absolute_error: 7.4958\n",
      "\n"
     ]
    }
   ],
   "source": [
    "batch_size = 32\n",
    "num_epochs = 4\n",
    "    \n",
    "model = Sequential()\n",
    "model.add(Dense(input_dim=num_attributes, units=32, activation='relu'))\n",
    "model.add(Dense(units=1))\n",
    "\n",
    "model.compile(optimizer='rmsprop', loss='mse', metrics=['mae'])\n",
    "history = model.fit(X_train, y_train, \n",
    "                    validation_data=(X_val, y_val), \n",
    "                    batch_size=batch_size, \n",
    "                    epochs=num_epochs)"
   ]
  },
  {
   "cell_type": "code",
   "execution_count": 39,
   "metadata": {},
   "outputs": [
    {
     "data": {
      "image/png": "[encoded data removed]",
      "text/plain": [
       "<matplotlib.figure.Figure at 0x7f3e961b8710>"
      ]
     },
     "metadata": {},
     "output_type": "display_data"
    }
   ],
   "source": [
    "plot(history)"
   ]
  },
  {
   "cell_type": "markdown",
   "metadata": {},
   "source": [
    "## That's not right...\n",
    "\n",
    "**Problem:** The val mae is consistently better than the training mae (i.e. over many experiments with varying optimizers and network depths and widths).\n",
    "\n",
    "**Thoughts:** The model is **overfitting**.\n",
    "\n",
    "**Solutions:**\n",
    "  * regularize -> failed\n",
    "  * increase validation size -> failed\n",
    "  \n",
    "So what is going on? Maybe my val set is just **\"easier\"** than my train set perhaps as a result of the **\"producer effect\"**. Whatever the cause, **let's assume that the cause is not overfitting**."
   ]
  },
  {
   "cell_type": "markdown",
   "metadata": {},
   "source": [
    "## So what is our DNN baseline?"
   ]
  },
  {
   "cell_type": "code",
   "execution_count": 40,
   "metadata": {},
   "outputs": [
    {
     "name": "stdout",
     "output_type": "stream",
     "text": [
      "DNN baseline mae: 7.55136121564\n"
     ]
    }
   ],
   "source": [
    "print 'DNN baseline mae: {}'.format(history.history['mean_absolute_error'][-1])"
   ]
  },
  {
   "cell_type": "markdown",
   "metadata": {},
   "source": [
    "Furthermore, work done by [Tan et al.][1] shows a best **MAE** of **~6.97** using a **Random Forest**. \n",
    "\n",
    "[1]: https://cseweb.ucsd.edu/classes/wi17/cse258-a/reports/a028.pdf"
   ]
  },
  {
   "cell_type": "markdown",
   "metadata": {},
   "source": [
    "## Can we do better?\n",
    "\n",
    "Many hours and random searches later..."
   ]
  },
  {
   "cell_type": "code",
   "execution_count": 41,
   "metadata": {},
   "outputs": [],
   "source": [
    "from tensorflow.python.keras.optimizers import RMSprop"
   ]
  },
  {
   "cell_type": "code",
   "execution_count": 46,
   "metadata": {},
   "outputs": [
    {
     "name": "stdout",
     "output_type": "stream",
     "text": [
      "Train on 370972 samples, validate on 92743 samples\n",
      "Epoch 1/12\n",
      "370972/370972 [==============================]370972/370972 [==============================] - 15s 42us/step - loss: 871375.7287 - mean_absolute_error: 694.2535 - val_loss: 84390.0757 - val_mean_absolute_error: 209.6151\n",
      "\n",
      "Epoch 2/12\n",
      "370972/370972 [==============================]370972/370972 [==============================] - 14s 39us/step - loss: 19967.4339 - mean_absolute_error: 80.3425 - val_loss: 521.5517 - val_mean_absolute_error: 12.4457\n",
      "\n",
      "Epoch 3/12\n",
      "370972/370972 [==============================]370972/370972 [==============================] - 14s 37us/step - loss: 209.3384 - mean_absolute_error: 8.5453 - val_loss: 135.1736 - val_mean_absolute_error: 7.9591\n",
      "\n",
      "Epoch 4/12\n",
      "370972/370972 [==============================]370972/370972 [==============================] - 14s 38us/step - loss: 121.7016 - mean_absolute_error: 7.5443 - val_loss: 115.2520 - val_mean_absolute_error: 7.2185\n",
      "\n",
      "Epoch 5/12\n",
      "370972/370972 [==============================]370972/370972 [==============================] - 14s 39us/step - loss: 111.8928 - mean_absolute_error: 7.4453 - val_loss: 112.8014 - val_mean_absolute_error: 7.5122\n",
      "\n",
      "Epoch 6/12\n",
      "370972/370972 [==============================]370972/370972 [==============================] - 15s 40us/step - loss: 108.0945 - mean_absolute_error: 7.3939 - val_loss: 108.7594 - val_mean_absolute_error: 7.2620\n",
      "\n",
      "Epoch 7/12\n",
      "370972/370972 [==============================]370972/370972 [==============================] - 15s 40us/step - loss: 105.6436 - mean_absolute_error: 7.3657 - val_loss: 103.0985 - val_mean_absolute_error: 7.2149\n",
      "\n",
      "Epoch 8/12\n",
      "370972/370972 [==============================]370972/370972 [==============================] - 15s 40us/step - loss: 103.8329 - mean_absolute_error: 7.3252 - val_loss: 103.5103 - val_mean_absolute_error: 6.9363\n",
      "\n",
      "Epoch 9/12\n",
      "370972/370972 [==============================]370972/370972 [==============================] - 14s 39us/step - loss: 102.9281 - mean_absolute_error: 7.2984 - val_loss: 104.5593 - val_mean_absolute_error: 7.3107\n",
      "\n",
      "Epoch 10/12\n",
      "370972/370972 [==============================]370972/370972 [==============================] - 15s 40us/step - loss: 101.9139 - mean_absolute_error: 7.2738 - val_loss: 105.0783 - val_mean_absolute_error: 7.0550\n",
      "\n",
      "Epoch 11/12\n",
      "370972/370972 [==============================]370972/370972 [==============================] - 15s 41us/step - loss: 101.5194 - mean_absolute_error: 7.2621 - val_loss: 101.5557 - val_mean_absolute_error: 7.1303\n",
      "\n",
      "Epoch 12/12\n",
      "370972/370972 [==============================]370972/370972 [==============================] - 15s 41us/step - loss: 101.0887 - mean_absolute_error: 7.2496 - val_loss: 97.5973 - val_mean_absolute_error: 7.1450\n",
      "\n"
     ]
    }
   ],
   "source": [
    "num_experiments = 1\n",
    "num_epochs = 12\n",
    "\n",
    "for i in xrange(num_experiments):\n",
    "    depth = 1\n",
    "    units = 32\n",
    "    lr = 0.0011\n",
    "    \n",
    "    model = Sequential()\n",
    "    model.add(Dense(input_dim=num_attributes, units=units, activation='relu'))\n",
    "    model.add(Dense(units=1))\n",
    "\n",
    "    model.compile(optimizer=RMSprop(lr), loss='mse', metrics=['mae'])\n",
    "    history = model.fit(X_train, y_train, \n",
    "                        validation_data=(X_val, y_val), \n",
    "                        batch_size=batch_size, \n",
    "                        epochs=num_epochs, \n",
    "                        callbacks=[],\n",
    "                        verbose=True)"
   ]
  },
  {
   "cell_type": "markdown",
   "metadata": {},
   "source": [
    "# Results\n",
    "\n",
    "It turns out that a DNN with 1 hidden layer and 32 hidden units is as good as any DNN. By fine tuning the lr and training for more epochs, we were able to improve on the DNN baseline. So the question now becomes, how well does it perform on the test set?"
   ]
  },
  {
   "cell_type": "code",
   "execution_count": 51,
   "metadata": {},
   "outputs": [
    {
     "name": "stdout",
     "output_type": "stream",
     "text": [
      "7.215515756209922\n"
     ]
    }
   ],
   "source": [
    "_, mae = model.evaluate(X_test, y_test, verbose=False)\n",
    "print mae"
   ]
  },
  {
   "cell_type": "code",
   "execution_count": null,
   "metadata": {},
   "outputs": [],
   "source": []
  }
 ],
 "metadata": {
  "kernelspec": {
   "display_name": "Python 2",
   "language": "python",
   "name": "python2"
  },
  "language_info": {
   "codemirror_mode": {
    "name": "ipython",
    "version": 2
   },
   "file_extension": ".py",
   "mimetype": "text/x-python",
   "name": "python",
   "nbconvert_exporter": "python",
   "pygments_lexer": "ipython2",
   "version": "2.7.14"
  }
 },
 "nbformat": 4,
 "nbformat_minor": 2
}
